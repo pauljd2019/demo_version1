{
 "cells": [
  {
   "cell_type": "markdown",
   "metadata": {},
   "source": [
    "# Below Package Code For Link Users For More Details"
   ]
  },
  {
   "cell_type": "code",
   "execution_count": 1,
   "metadata": {},
   "outputs": [],
   "source": [
    "from IPython.core.display import HTML\n",
    "\n",
    "from IPython.display import Markdown, display # Ipython Function for Displaying the Results\n",
    "def jd_printing(string,val=None): # Function to Make Bold and Italic text over the screen\n",
    "    if val ==None:\n",
    "        display(Markdown(string))\n",
    "    else :\n",
    "        (display(Markdown(string+\"\\t\\t:\\t\\t\"+str(val))))\n",
    "    "
   ]
  },
  {
   "cell_type": "markdown",
   "metadata": {},
   "source": [
    "# Imporitng the Essential Packages For Email Analytics Using Pandas "
   ]
  },
  {
   "cell_type": "code",
   "execution_count": 2,
   "metadata": {},
   "outputs": [
    {
     "data": {
      "text/plain": [
       "'0.23.4'"
      ]
     },
     "execution_count": 2,
     "metadata": {},
     "output_type": "execute_result"
    }
   ],
   "source": [
    "import os           # Operating System Module inbuilt in Python \n",
    "import pandas as pd # Pandas is inbuilt in anaconda if not install seprately (Note:- Version of Pandas, for this file 0.23.4)\n",
    "# Check Version with Below Command as required \n",
    "\n",
    "pd.__version__"
   ]
  },
  {
   "cell_type": "code",
   "execution_count": 3,
   "metadata": {},
   "outputs": [
    {
     "data": {
      "text/markdown": [
       "***Here is Link for Pandas Installation***"
      ],
      "text/plain": [
       "<IPython.core.display.Markdown object>"
      ]
     },
     "metadata": {},
     "output_type": "display_data"
    },
    {
     "data": {
      "text/html": [
       "<b><font size=\"5\"> <marquee HEIGHT=50> <a href=\"https://pandas.pydata.org/\"> Pandas_Install_Guide </marquee></a><b>"
      ],
      "text/plain": [
       "<IPython.core.display.HTML object>"
      ]
     },
     "execution_count": 3,
     "metadata": {},
     "output_type": "execute_result"
    }
   ],
   "source": [
    "jd_printing (\"***Here is Link for Pandas Installation***\")\n",
    "HTML('<b><font size=\"5\"> <marquee HEIGHT=50> <a href=\"https://pandas.pydata.org/\"> Pandas_Install_Guide </marquee></a><b>')\n"
   ]
  },
  {
   "cell_type": "code",
   "execution_count": 4,
   "metadata": {},
   "outputs": [
    {
     "data": {
      "text/markdown": [
       "***Here is Link for Pandas Site, Documentation How To Use Pandas Function***"
      ],
      "text/plain": [
       "<IPython.core.display.Markdown object>"
      ]
     },
     "metadata": {},
     "output_type": "display_data"
    },
    {
     "data": {
      "text/html": [
       "<b><font size=\"5\"> <marquee HEIGHT=50><a href=\"https://pandas.pydata.org/pandas-docs/stable/index.html/\">Pandas_Site </marquee></a><b>"
      ],
      "text/plain": [
       "<IPython.core.display.HTML object>"
      ]
     },
     "execution_count": 4,
     "metadata": {},
     "output_type": "execute_result"
    }
   ],
   "source": [
    "jd_printing(\"***Here is Link for Pandas Site, Documentation How To Use Pandas Function***\")\n",
    "HTML('<b><font size=\"5\"> <marquee HEIGHT=50><a href=\"https://pandas.pydata.org/pandas-docs/stable/index.html/\">\\\n",
    "Pandas_Site </marquee></a><b>')"
   ]
  },
  {
   "cell_type": "markdown",
   "metadata": {},
   "source": [
    "# Reading CSV FILE Using Pandas DataFrame with Hyper Parameter"
   ]
  },
  {
   "cell_type": "raw",
   "metadata": {},
   "source": [
    "# File Name is In Which Raw Data Stored.\n",
    "# Note :-  If Raw Data format is different please refer Pandas Site for more detail and use accordingly.\n",
    "# As per this use case i am using read_csv format in pandas.\n",
    "# Note :-  Enconding is Must as its vary data to data for dealing with these kind of issues read file format over web"
   ]
  },
  {
   "cell_type": "code",
   "execution_count": 5,
   "metadata": {},
   "outputs": [
    {
     "data": {
      "text/markdown": [
       "***Here is Link for Python Encoding list to Deal with data reading***"
      ],
      "text/plain": [
       "<IPython.core.display.Markdown object>"
      ]
     },
     "metadata": {},
     "output_type": "display_data"
    },
    {
     "data": {
      "text/html": [
       "<b><font size=\"5\"> <marquee HEIGHT=50> <a href=\"https://docs.python.org/2.4/lib/standard-encodings.html\"> Python_Encoding_list </marquee></a><b>"
      ],
      "text/plain": [
       "<IPython.core.display.HTML object>"
      ]
     },
     "execution_count": 5,
     "metadata": {},
     "output_type": "execute_result"
    }
   ],
   "source": [
    "jd_printing(\"***Here is Link for Python Encoding list to Deal with data reading***\")\n",
    "HTML('<b><font size=\"5\"> <marquee HEIGHT=50> <a href=\"https://docs.python.org/2.4/lib/standard-encodings.html\"> \\\n",
    "Python_Encoding_list </marquee></a><b>')\n"
   ]
  },
  {
   "cell_type": "code",
   "execution_count": 6,
   "metadata": {},
   "outputs": [
    {
     "data": {
      "text/markdown": [
       "***Total Records in Data Set***\t\t:\t\t569"
      ],
      "text/plain": [
       "<IPython.core.display.Markdown object>"
      ]
     },
     "metadata": {},
     "output_type": "display_data"
    }
   ],
   "source": [
    "File_Name = \"inbox_pst.csv\"  # Raw Data file Name\n",
    "email_data =pd.read_csv(File_Name,encoding=\"latin1\",sep=',') # Loading CSV into Pandas which RUN over RAM of Machine\n",
    "jd_printing(\"***Total Records in Data Set***\",len(email_data))"
   ]
  },
  {
   "cell_type": "markdown",
   "metadata": {},
   "source": [
    "### Over View of Data Set  Using Pandas Inbuilt Function"
   ]
  },
  {
   "cell_type": "code",
   "execution_count": 7,
   "metadata": {},
   "outputs": [
    {
     "name": "stdout",
     "output_type": "stream",
     "text": [
      "<class 'pandas.core.frame.DataFrame'>\n",
      "RangeIndex: 569 entries, 0 to 568\n",
      "Data columns (total 4 columns):\n",
      "Subject         567 non-null object\n",
      "Body            569 non-null object\n",
      "From: (Name)    569 non-null object\n",
      "To: (Name)      569 non-null object\n",
      "dtypes: object(4)\n",
      "memory usage: 17.9+ KB\n"
     ]
    }
   ],
   "source": [
    "email_data.info() # This will tell how many records in data set"
   ]
  },
  {
   "cell_type": "code",
   "execution_count": 8,
   "metadata": {},
   "outputs": [
    {
     "data": {
      "text/plain": [
       "Index(['Subject', 'Body', 'From: (Name)', 'To: (Name)'], dtype='object')"
      ]
     },
     "execution_count": 8,
     "metadata": {},
     "output_type": "execute_result"
    }
   ],
   "source": [
    "email_data.columns # Columns Present in Data Frames"
   ]
  },
  {
   "cell_type": "markdown",
   "metadata": {},
   "source": [
    "### Renaming the Pandas Data Frame as per requirement"
   ]
  },
  {
   "cell_type": "code",
   "execution_count": 9,
   "metadata": {},
   "outputs": [],
   "source": [
    "email_data.rename(index=str, columns={\"From: (Name)\": \"From\", \"To: (Name)\": \"To\"},inplace=True)"
   ]
  },
  {
   "cell_type": "markdown",
   "metadata": {},
   "source": [
    "### Giving Serial Number to Document for Future Processing"
   ]
  },
  {
   "cell_type": "code",
   "execution_count": 10,
   "metadata": {},
   "outputs": [],
   "source": [
    "email_data[\"Serial_Num\"] = [x+1 for x in range(len(email_data))]"
   ]
  },
  {
   "cell_type": "markdown",
   "metadata": {},
   "source": [
    "## Below Few Step are Part of Data Wrangling or Data Enginering, That Provide you Some insight of Data Set"
   ]
  },
  {
   "cell_type": "code",
   "execution_count": 11,
   "metadata": {},
   "outputs": [
    {
     "data": {
      "text/html": [
       "<div>\n",
       "<style scoped>\n",
       "    .dataframe tbody tr th:only-of-type {\n",
       "        vertical-align: middle;\n",
       "    }\n",
       "\n",
       "    .dataframe tbody tr th {\n",
       "        vertical-align: top;\n",
       "    }\n",
       "\n",
       "    .dataframe thead th {\n",
       "        text-align: right;\n",
       "    }\n",
       "</style>\n",
       "<table border=\"1\" class=\"dataframe\">\n",
       "  <thead>\n",
       "    <tr style=\"text-align: right;\">\n",
       "      <th></th>\n",
       "      <th>Subject</th>\n",
       "      <th>Body</th>\n",
       "      <th>From</th>\n",
       "      <th>To</th>\n",
       "      <th>Serial_Num</th>\n",
       "    </tr>\n",
       "  </thead>\n",
       "  <tbody>\n",
       "    <tr>\n",
       "      <th>0</th>\n",
       "      <td>tracing</td>\n",
       "      <td>how early can you call me my tuesday evening t...</td>\n",
       "      <td>Paul French</td>\n",
       "      <td>Jitendra Dadhich</td>\n",
       "      <td>1</td>\n",
       "    </tr>\n",
       "    <tr>\n",
       "      <th>1</th>\n",
       "      <td>cleanup on where are on th email review projec...</td>\n",
       "      <td>i donot think cosign similarity will ever work...</td>\n",
       "      <td>Paul French</td>\n",
       "      <td>Jitendra Dadhich</td>\n",
       "      <td>2</td>\n",
       "    </tr>\n",
       "    <tr>\n",
       "      <th>2</th>\n",
       "      <td>Weekly digest: Office 365 changes</td>\n",
       "      <td>\\t &lt;http://image.email2.office.com/lib/fe81137...</td>\n",
       "      <td>Office 365 Message Center</td>\n",
       "      <td>Jitendra Dadhich</td>\n",
       "      <td>3</td>\n",
       "    </tr>\n",
       "    <tr>\n",
       "      <th>3</th>\n",
       "      <td>Re: tracing</td>\n",
       "      <td>I had to get up at 1:45 AM this morning to get...</td>\n",
       "      <td>Paul French</td>\n",
       "      <td>Jitendra Dadhich</td>\n",
       "      <td>4</td>\n",
       "    </tr>\n",
       "    <tr>\n",
       "      <th>4</th>\n",
       "      <td>Re: cleanup on where are on th email review pr...</td>\n",
       "      <td>Please look at my email on October 26, 2017 4:...</td>\n",
       "      <td>Paul French</td>\n",
       "      <td>Jitendra Dadhich</td>\n",
       "      <td>5</td>\n",
       "    </tr>\n",
       "  </tbody>\n",
       "</table>\n",
       "</div>"
      ],
      "text/plain": [
       "                                             Subject  \\\n",
       "0                                            tracing   \n",
       "1  cleanup on where are on th email review projec...   \n",
       "2                  Weekly digest: Office 365 changes   \n",
       "3                                        Re: tracing   \n",
       "4  Re: cleanup on where are on th email review pr...   \n",
       "\n",
       "                                                Body  \\\n",
       "0  how early can you call me my tuesday evening t...   \n",
       "1  i donot think cosign similarity will ever work...   \n",
       "2  \\t <http://image.email2.office.com/lib/fe81137...   \n",
       "3  I had to get up at 1:45 AM this morning to get...   \n",
       "4  Please look at my email on October 26, 2017 4:...   \n",
       "\n",
       "                        From                To  Serial_Num  \n",
       "0                Paul French  Jitendra Dadhich           1  \n",
       "1                Paul French  Jitendra Dadhich           2  \n",
       "2  Office 365 Message Center  Jitendra Dadhich           3  \n",
       "3                Paul French  Jitendra Dadhich           4  \n",
       "4                Paul French  Jitendra Dadhich           5  "
      ]
     },
     "execution_count": 11,
     "metadata": {},
     "output_type": "execute_result"
    }
   ],
   "source": [
    "email_data.head() # Top Five Record View, To See How Data Looks in Pandas Dataframe"
   ]
  },
  {
   "cell_type": "code",
   "execution_count": 12,
   "metadata": {},
   "outputs": [
    {
     "data": {
      "text/plain": [
       "array(['Jitendra Dadhich', 'Barbara French', 'skep.root.user@gmail.com',\n",
       "       'Jitendra Dadhich;Barbara French', 'Paul French', 'HR',\n",
       "       'Jitendra Kumar Dadhich', 'Barbara French;Jitendra Dadhich',\n",
       "       'Max Deutsch', 'support@logmein.com',\n",
       "       'jkdadhich@virtualemploye.com',\n",
       "       'Jitendra Kumar Dadhich;Garima Tiwari'], dtype=object)"
      ]
     },
     "execution_count": 12,
     "metadata": {},
     "output_type": "execute_result"
    }
   ],
   "source": [
    "email_data.To.unique()  #  Unique Email Id for TO list"
   ]
  },
  {
   "cell_type": "code",
   "execution_count": 13,
   "metadata": {},
   "outputs": [
    {
     "data": {
      "text/plain": [
       "array(['Paul French', 'Office 365 Message Center', 'HR',\n",
       "       'LogMeIn.com Auto-Mailer', 'Jitendra Dadhich', 'Team Anaconda',\n",
       "       'Frank Kane', 'Scott Walent', 'Microsoft Online Services Team',\n",
       "       'Microsoft Office 365 Team', 'Amazon Web Services',\n",
       "       'no-reply-aws@amazon.com', 'Safari', 'Databricks Team',\n",
       "       'Spark+AI Summit', 'Max Deutsch', 'no-reply@logmein.com',\n",
       "       'Peter Wang', 'Microsoft Outlook', 'Jitendra Kumar Dadhich',\n",
       "       'Databricks Webinars', 'Microsoft (do not reply)', 'Jules Damji',\n",
       "       'Spark + AI Summit', 'Jeet Dadhich',\n",
       "       'Matei Zaharia, Databricks Chief Technologist', 'Spark + AI',\n",
       "       'Spark + AI Summit Team', \"O'Reilly Online Learning\",\n",
       "       'Barbara French', 'barb@frenchcpa.com', 'Matei Zaharia',\n",
       "       'LogMeIn Support',\n",
       "       'Jules Damji, Spark Developer and Community Advocate',\n",
       "       'Databricks Marketing', 'Sandra Lara', 'Sushil Kumar Pandey',\n",
       "       \"O'Reilly Safari\"], dtype=object)"
      ]
     },
     "execution_count": 13,
     "metadata": {},
     "output_type": "execute_result"
    }
   ],
   "source": [
    "email_data.From.unique()  # Unique Email Id for From list"
   ]
  },
  {
   "cell_type": "code",
   "execution_count": 14,
   "metadata": {},
   "outputs": [
    {
     "data": {
      "text/plain": [
       "Jitendra Dadhich                        496\n",
       "Barbara French                           29\n",
       "skep.root.user@gmail.com                 18\n",
       "Barbara French;Jitendra Dadhich          16\n",
       "Jitendra Kumar Dadhich                    2\n",
       "HR                                        2\n",
       "support@logmein.com                       1\n",
       "Jitendra Kumar Dadhich;Garima Tiwari      1\n",
       "Paul French                               1\n",
       "Jitendra Dadhich;Barbara French           1\n",
       "jkdadhich@virtualemploye.com              1\n",
       "Max Deutsch                               1\n",
       "Name: To, dtype: int64"
      ]
     },
     "execution_count": 14,
     "metadata": {},
     "output_type": "execute_result"
    }
   ],
   "source": [
    "email_data.To.value_counts() # Count of  Emails as per columns"
   ]
  },
  {
   "cell_type": "code",
   "execution_count": 15,
   "metadata": {},
   "outputs": [
    {
     "data": {
      "text/plain": [
       "Paul French                                            215\n",
       "Office 365 Message Center                               78\n",
       "Team Anaconda                                           40\n",
       "Microsoft Online Services Team                          31\n",
       "Databricks Team                                         31\n",
       "LogMeIn.com Auto-Mailer                                 20\n",
       "Frank Kane                                              17\n",
       "Spark + AI Summit Team                                  16\n",
       "Microsoft (do not reply)                                16\n",
       "Databricks Webinars                                     13\n",
       "Amazon Web Services                                     12\n",
       "Jitendra Dadhich                                         9\n",
       "Max Deutsch                                              7\n",
       "Spark+AI Summit                                          7\n",
       "HR                                                       7\n",
       "Safari                                                   7\n",
       "O'Reilly Safari                                          6\n",
       "no-reply-aws@amazon.com                                  6\n",
       "Jitendra Kumar Dadhich                                   3\n",
       "Jules Damji                                              3\n",
       "Microsoft Outlook                                        2\n",
       "Matei Zaharia, Databricks Chief Technologist             2\n",
       "Databricks Marketing                                     2\n",
       "Spark + AI                                               2\n",
       "O'Reilly Online Learning                                 2\n",
       "Spark + AI Summit                                        2\n",
       "Barbara French                                           2\n",
       "Microsoft Office 365 Team                                1\n",
       "LogMeIn Support                                          1\n",
       "Scott Walent                                             1\n",
       "Jeet Dadhich                                             1\n",
       "Peter Wang                                               1\n",
       "Sandra Lara                                              1\n",
       "barb@frenchcpa.com                                       1\n",
       "Sushil Kumar Pandey                                      1\n",
       "Jules Damji, Spark Developer and Community Advocate      1\n",
       "Matei Zaharia                                            1\n",
       "no-reply@logmein.com                                     1\n",
       "Name: From, dtype: int64"
      ]
     },
     "execution_count": 15,
     "metadata": {},
     "output_type": "execute_result"
    }
   ],
   "source": [
    "email_data.From.value_counts() #   Count of  Emails as per columns"
   ]
  },
  {
   "cell_type": "code",
   "execution_count": 16,
   "metadata": {},
   "outputs": [
    {
     "data": {
      "text/plain": [
       "Weekly digest: Office 365 changes                       50\n",
       "Fw: HOOAAAAAAAAAAAAH!!                                  19\n",
       "Message Center Major Change Update Notification         15\n",
       "Message Center Major Update Notification                13\n",
       "View your Office 365 Enterprise E3 billing statement    12\n",
       "Name: Subject, dtype: int64"
      ]
     },
     "execution_count": 16,
     "metadata": {},
     "output_type": "execute_result"
    }
   ],
   "source": [
    "email_data.Subject.value_counts().head() # Duplicate Subject "
   ]
  },
  {
   "cell_type": "code",
   "execution_count": 17,
   "metadata": {},
   "outputs": [
    {
     "data": {
      "text/plain": [
       "Weekly digest: Office 365 changes                       50\n",
       "Fw: HOOAAAAAAAAAAAAH!!                                  19\n",
       "Message Center Major Change Update Notification         15\n",
       "Message Center Major Update Notification                13\n",
       "View your Office 365 Enterprise E3 billing statement    12\n",
       "Name: Subject, dtype: int64"
      ]
     },
     "execution_count": 17,
     "metadata": {},
     "output_type": "execute_result"
    }
   ],
   "source": [
    "email_data.Subject.value_counts().head() # Duplicate Subject "
   ]
  },
  {
   "cell_type": "code",
   "execution_count": 18,
   "metadata": {},
   "outputs": [
    {
     "data": {
      "text/plain": [
       "(dict_keys([' \\t \\r\\n <https://secure.logmein.com/> \\t \\r\\n\\r\\nEvent:\\r\\nLogin failed \\r\\n\\r\\nThere was a failed login attempt to your LogMeIn account. \\r\\n\\r\\nLogMeIn ID: test11bed2015@bfassoc.onmicrosoft.com <mailto:test11bed2015@bfassoc.onmicrosoft.com> \\r\\n\\r\\nTime of Event: 11/22/2018 5:22 AM\\r\\nFrom IP Address: 157.37.214.133\\r\\nFrom location: Jaipur, India \\r\\n\\r\\nTo verify your account activity, log in to your account and go to Account settings > Security > Audit log. \\r\\n\\r\\nTo change your notification settings, log in to your account and go to Account settings > Email notifications. \\r\\nLogMeIn Products: \\r\\n\\r\\n\\r\\n\\r\\n \\r\\n \\r\\n\\r\\n \\r\\n \\r\\n\\r\\n \\r\\n \\r\\n\\r\\n \\r\\n \\r\\n\\r\\nImportant Security Notice:\\r\\nLogMeIn never asks for your password or other sensitive information by email. Do not click links or respond to a suspicious email! For details, visit blog.logmein.com/products/avoiding-phishing-attacks <http://blog.logmein.com/products/avoiding-phishing-attacks> .\\r\\n\\t\\r\\nReplies to this email are not monitored. Need help with your account? Contact Customer Support <https://help.logmein.com/?cu=1> .\\r\\n\\r\\n© LogMeIn Inc, 320 Summer St., Boston MA, 02210 \\t\\r\\n\\r\\n\\r\\n', '\\r\\n\\r\\n\\r\\n----- Forwarded Message -----\\r\\nFrom: Paul French <paul@frenchcpa.com>\\r\\nTo: Paul French <paul@frenchcpa.com> \\r\\nSent: Friday, March 9, 2018 2:09 PM\\r\\nSubject: Python Demo 2\\r\\n\\r\\n\\r\\n\\r\\n\\r\\n\\r\\n', ' \\r\\n\\r\\n', '\\r\\n', '\\t\\t \\t \\r\\nPassword reset notification \\r\\n\\r\\n \\t \\r\\n\\t \\t The password on your account has recently been reset. If you performed this password reset, then this message is for your information only. \\r\\n\\r\\n\\r\\n*\\tUser ID: Test11Bed2015@BFAssoc.onmicrosoft.com \\r\\n\\r\\n\\r\\nIf you are not sure you or your administrator performed this password reset, then you should contact your administrator immediately. \\r\\n\\r\\n\\r\\nRemember: Make sure you update all of your devices (phones, tablets, and PCs) with your new password! \\r\\n\\r\\n\\r\\nSincerely, \\r\\nThe Azure Active Directory Team \\r\\n \\t \\t \\t \\t \\t \\t\\r\\n\\t \\t Microsoft Corporation | One Microsoft Way Redmond, WA 98052-6399 \\r\\n\\r\\nThis message was sent from an unmonitored email address. Please do not reply to this message. \\r\\n\\r\\nPrivacy <https://privacy.microsoft.com/en-US/privacystatement> | Legal <https://www.microsoft.com/en-US/servicesagreement/> \\r\\n\\r\\n <https://passwordreset.microsoftonline.com/images/1_MSLogo.png> \\t\\r\\n \\t \\t\\r\\n\\t\\r\\n']),\n",
       " [18, 4, 2, 2, 2])"
      ]
     },
     "execution_count": 18,
     "metadata": {},
     "output_type": "execute_result"
    }
   ],
   "source": [
    "dict(email_data.Body.value_counts().head()).keys(),list(email_data.Body.value_counts().head())"
   ]
  },
  {
   "cell_type": "markdown",
   "metadata": {},
   "source": [
    "## Duplicate Email Body Content With Same Subject Contents"
   ]
  },
  {
   "cell_type": "code",
   "execution_count": 19,
   "metadata": {},
   "outputs": [
    {
     "data": {
      "text/html": [
       "<div>\n",
       "<style scoped>\n",
       "    .dataframe tbody tr th:only-of-type {\n",
       "        vertical-align: middle;\n",
       "    }\n",
       "\n",
       "    .dataframe tbody tr th {\n",
       "        vertical-align: top;\n",
       "    }\n",
       "\n",
       "    .dataframe thead th {\n",
       "        text-align: right;\n",
       "    }\n",
       "</style>\n",
       "<table border=\"1\" class=\"dataframe\">\n",
       "  <thead>\n",
       "    <tr style=\"text-align: right;\">\n",
       "      <th></th>\n",
       "      <th>Subject</th>\n",
       "      <th>Body</th>\n",
       "      <th>From</th>\n",
       "      <th>To</th>\n",
       "      <th>Serial_Num</th>\n",
       "    </tr>\n",
       "  </thead>\n",
       "  <tbody>\n",
       "    <tr>\n",
       "      <th>169</th>\n",
       "      <td>Fw: Python Demo 2</td>\n",
       "      <td>\\r\\n\\r\\n\\r\\n----- Forwarded Message -----\\r\\nF...</td>\n",
       "      <td>Paul French</td>\n",
       "      <td>Jitendra Dadhich</td>\n",
       "      <td>170</td>\n",
       "    </tr>\n",
       "    <tr>\n",
       "      <th>170</th>\n",
       "      <td>Fw: Python Demo 2</td>\n",
       "      <td>\\r\\n\\r\\n\\r\\n----- Forwarded Message -----\\r\\nF...</td>\n",
       "      <td>Paul French</td>\n",
       "      <td>Jitendra Dadhich</td>\n",
       "      <td>171</td>\n",
       "    </tr>\n",
       "    <tr>\n",
       "      <th>346</th>\n",
       "      <td>Your BF &amp; Associates password has been reset</td>\n",
       "      <td>\\t\\t \\t \\r\\nPassword reset notification \\r\\n\\r...</td>\n",
       "      <td>Microsoft Online Services Team</td>\n",
       "      <td>Jitendra Dadhich</td>\n",
       "      <td>347</td>\n",
       "    </tr>\n",
       "    <tr>\n",
       "      <th>431</th>\n",
       "      <td>Your BF &amp; Associates password has been reset</td>\n",
       "      <td>\\t\\t \\t \\r\\nPassword reset notification \\r\\n\\r...</td>\n",
       "      <td>Microsoft Online Services Team</td>\n",
       "      <td>Jitendra Dadhich</td>\n",
       "      <td>432</td>\n",
       "    </tr>\n",
       "    <tr>\n",
       "      <th>488</th>\n",
       "      <td>Your BF &amp; Associates password has been reset</td>\n",
       "      <td>\\t\\t \\t \\r\\nPassword reset notification \\r\\n\\r...</td>\n",
       "      <td>Microsoft Online Services Team</td>\n",
       "      <td>Jitendra Dadhich</td>\n",
       "      <td>489</td>\n",
       "    </tr>\n",
       "    <tr>\n",
       "      <th>504</th>\n",
       "      <td>Your BF &amp; Associates password has been reset</td>\n",
       "      <td>\\t\\t \\t \\r\\nPassword reset notification \\r\\n\\r...</td>\n",
       "      <td>Microsoft Online Services Team</td>\n",
       "      <td>Jitendra Dadhich</td>\n",
       "      <td>505</td>\n",
       "    </tr>\n",
       "    <tr>\n",
       "      <th>562</th>\n",
       "      <td>LogMeIn Audit Notification - Login failed</td>\n",
       "      <td>\\t \\r\\n &lt;https://secure.logmein.com/&gt; \\t \\r\\n...</td>\n",
       "      <td>LogMeIn.com Auto-Mailer</td>\n",
       "      <td>Jitendra Dadhich</td>\n",
       "      <td>563</td>\n",
       "    </tr>\n",
       "    <tr>\n",
       "      <th>563</th>\n",
       "      <td>LogMeIn Audit Notification - Login failed</td>\n",
       "      <td>\\t \\r\\n &lt;https://secure.logmein.com/&gt; \\t \\r\\n...</td>\n",
       "      <td>LogMeIn.com Auto-Mailer</td>\n",
       "      <td>Jitendra Dadhich</td>\n",
       "      <td>564</td>\n",
       "    </tr>\n",
       "  </tbody>\n",
       "</table>\n",
       "</div>"
      ],
      "text/plain": [
       "                                          Subject  \\\n",
       "169                             Fw: Python Demo 2   \n",
       "170                             Fw: Python Demo 2   \n",
       "346  Your BF & Associates password has been reset   \n",
       "431  Your BF & Associates password has been reset   \n",
       "488  Your BF & Associates password has been reset   \n",
       "504  Your BF & Associates password has been reset   \n",
       "562     LogMeIn Audit Notification - Login failed   \n",
       "563     LogMeIn Audit Notification - Login failed   \n",
       "\n",
       "                                                  Body  \\\n",
       "169  \\r\\n\\r\\n\\r\\n----- Forwarded Message -----\\r\\nF...   \n",
       "170  \\r\\n\\r\\n\\r\\n----- Forwarded Message -----\\r\\nF...   \n",
       "346  \\t\\t \\t \\r\\nPassword reset notification \\r\\n\\r...   \n",
       "431  \\t\\t \\t \\r\\nPassword reset notification \\r\\n\\r...   \n",
       "488  \\t\\t \\t \\r\\nPassword reset notification \\r\\n\\r...   \n",
       "504  \\t\\t \\t \\r\\nPassword reset notification \\r\\n\\r...   \n",
       "562   \\t \\r\\n <https://secure.logmein.com/> \\t \\r\\n...   \n",
       "563   \\t \\r\\n <https://secure.logmein.com/> \\t \\r\\n...   \n",
       "\n",
       "                               From                To  Serial_Num  \n",
       "169                     Paul French  Jitendra Dadhich         170  \n",
       "170                     Paul French  Jitendra Dadhich         171  \n",
       "346  Microsoft Online Services Team  Jitendra Dadhich         347  \n",
       "431  Microsoft Online Services Team  Jitendra Dadhich         432  \n",
       "488  Microsoft Online Services Team  Jitendra Dadhich         489  \n",
       "504  Microsoft Online Services Team  Jitendra Dadhich         505  \n",
       "562         LogMeIn.com Auto-Mailer  Jitendra Dadhich         563  \n",
       "563         LogMeIn.com Auto-Mailer  Jitendra Dadhich         564  "
      ]
     },
     "execution_count": 19,
     "metadata": {},
     "output_type": "execute_result"
    }
   ],
   "source": [
    "Duplicate_email = email_data[email_data.duplicated(['Subject', 'Body']).groupby(email_data['Body']).transform('any')]\n",
    "Duplicate_email"
   ]
  },
  {
   "cell_type": "markdown",
   "metadata": {},
   "source": [
    "### Getting List of Duplicate Values in List format for Future Use"
   ]
  },
  {
   "cell_type": "code",
   "execution_count": 20,
   "metadata": {},
   "outputs": [
    {
     "data": {
      "text/plain": [
       "[170, 171, 347, 432, 489, 505, 563, 564]"
      ]
     },
     "execution_count": 20,
     "metadata": {},
     "output_type": "execute_result"
    }
   ],
   "source": [
    "Droping_list = Duplicate_email.Serial_Num\n",
    "list(Droping_list)"
   ]
  },
  {
   "cell_type": "markdown",
   "metadata": {},
   "source": [
    "### Removing Duplicate Data From ORIGINAL Data Set with Existing Records as well"
   ]
  },
  {
   "cell_type": "code",
   "execution_count": 21,
   "metadata": {},
   "outputs": [
    {
     "data": {
      "text/plain": [
       "561"
      ]
     },
     "execution_count": 21,
     "metadata": {},
     "output_type": "execute_result"
    }
   ],
   "source": [
    "email_data = email_data.loc[~email_data['Serial_Num'].isin(list(Droping_list))]\n",
    "len(email_data)"
   ]
  },
  {
   "cell_type": "markdown",
   "metadata": {},
   "source": [
    "## Sample View of Duplicate and Removed From Original As well"
   ]
  },
  {
   "cell_type": "code",
   "execution_count": 22,
   "metadata": {},
   "outputs": [
    {
     "data": {
      "text/html": [
       "<div>\n",
       "<style scoped>\n",
       "    .dataframe tbody tr th:only-of-type {\n",
       "        vertical-align: middle;\n",
       "    }\n",
       "\n",
       "    .dataframe tbody tr th {\n",
       "        vertical-align: top;\n",
       "    }\n",
       "\n",
       "    .dataframe thead th {\n",
       "        text-align: right;\n",
       "    }\n",
       "</style>\n",
       "<table border=\"1\" class=\"dataframe\">\n",
       "  <thead>\n",
       "    <tr style=\"text-align: right;\">\n",
       "      <th></th>\n",
       "      <th>Subject</th>\n",
       "      <th>Body</th>\n",
       "      <th>From</th>\n",
       "      <th>To</th>\n",
       "      <th>Serial_Num</th>\n",
       "    </tr>\n",
       "  </thead>\n",
       "  <tbody>\n",
       "    <tr>\n",
       "      <th>169</th>\n",
       "      <td>Fw: Python Demo 2</td>\n",
       "      <td>\\r\\n\\r\\n\\r\\n----- Forwarded Message -----\\r\\nF...</td>\n",
       "      <td>Paul French</td>\n",
       "      <td>Jitendra Dadhich</td>\n",
       "      <td>170</td>\n",
       "    </tr>\n",
       "    <tr>\n",
       "      <th>170</th>\n",
       "      <td>Fw: Python Demo 2</td>\n",
       "      <td>\\r\\n\\r\\n\\r\\n----- Forwarded Message -----\\r\\nF...</td>\n",
       "      <td>Paul French</td>\n",
       "      <td>Jitendra Dadhich</td>\n",
       "      <td>171</td>\n",
       "    </tr>\n",
       "    <tr>\n",
       "      <th>346</th>\n",
       "      <td>Your BF &amp; Associates password has been reset</td>\n",
       "      <td>\\t\\t \\t \\r\\nPassword reset notification \\r\\n\\r...</td>\n",
       "      <td>Microsoft Online Services Team</td>\n",
       "      <td>Jitendra Dadhich</td>\n",
       "      <td>347</td>\n",
       "    </tr>\n",
       "    <tr>\n",
       "      <th>431</th>\n",
       "      <td>Your BF &amp; Associates password has been reset</td>\n",
       "      <td>\\t\\t \\t \\r\\nPassword reset notification \\r\\n\\r...</td>\n",
       "      <td>Microsoft Online Services Team</td>\n",
       "      <td>Jitendra Dadhich</td>\n",
       "      <td>432</td>\n",
       "    </tr>\n",
       "    <tr>\n",
       "      <th>488</th>\n",
       "      <td>Your BF &amp; Associates password has been reset</td>\n",
       "      <td>\\t\\t \\t \\r\\nPassword reset notification \\r\\n\\r...</td>\n",
       "      <td>Microsoft Online Services Team</td>\n",
       "      <td>Jitendra Dadhich</td>\n",
       "      <td>489</td>\n",
       "    </tr>\n",
       "    <tr>\n",
       "      <th>504</th>\n",
       "      <td>Your BF &amp; Associates password has been reset</td>\n",
       "      <td>\\t\\t \\t \\r\\nPassword reset notification \\r\\n\\r...</td>\n",
       "      <td>Microsoft Online Services Team</td>\n",
       "      <td>Jitendra Dadhich</td>\n",
       "      <td>505</td>\n",
       "    </tr>\n",
       "    <tr>\n",
       "      <th>562</th>\n",
       "      <td>LogMeIn Audit Notification - Login failed</td>\n",
       "      <td>\\t \\r\\n &lt;https://secure.logmein.com/&gt; \\t \\r\\n...</td>\n",
       "      <td>LogMeIn.com Auto-Mailer</td>\n",
       "      <td>Jitendra Dadhich</td>\n",
       "      <td>563</td>\n",
       "    </tr>\n",
       "    <tr>\n",
       "      <th>563</th>\n",
       "      <td>LogMeIn Audit Notification - Login failed</td>\n",
       "      <td>\\t \\r\\n &lt;https://secure.logmein.com/&gt; \\t \\r\\n...</td>\n",
       "      <td>LogMeIn.com Auto-Mailer</td>\n",
       "      <td>Jitendra Dadhich</td>\n",
       "      <td>564</td>\n",
       "    </tr>\n",
       "  </tbody>\n",
       "</table>\n",
       "</div>"
      ],
      "text/plain": [
       "                                          Subject  \\\n",
       "169                             Fw: Python Demo 2   \n",
       "170                             Fw: Python Demo 2   \n",
       "346  Your BF & Associates password has been reset   \n",
       "431  Your BF & Associates password has been reset   \n",
       "488  Your BF & Associates password has been reset   \n",
       "504  Your BF & Associates password has been reset   \n",
       "562     LogMeIn Audit Notification - Login failed   \n",
       "563     LogMeIn Audit Notification - Login failed   \n",
       "\n",
       "                                                  Body  \\\n",
       "169  \\r\\n\\r\\n\\r\\n----- Forwarded Message -----\\r\\nF...   \n",
       "170  \\r\\n\\r\\n\\r\\n----- Forwarded Message -----\\r\\nF...   \n",
       "346  \\t\\t \\t \\r\\nPassword reset notification \\r\\n\\r...   \n",
       "431  \\t\\t \\t \\r\\nPassword reset notification \\r\\n\\r...   \n",
       "488  \\t\\t \\t \\r\\nPassword reset notification \\r\\n\\r...   \n",
       "504  \\t\\t \\t \\r\\nPassword reset notification \\r\\n\\r...   \n",
       "562   \\t \\r\\n <https://secure.logmein.com/> \\t \\r\\n...   \n",
       "563   \\t \\r\\n <https://secure.logmein.com/> \\t \\r\\n...   \n",
       "\n",
       "                               From                To  Serial_Num  \n",
       "169                     Paul French  Jitendra Dadhich         170  \n",
       "170                     Paul French  Jitendra Dadhich         171  \n",
       "346  Microsoft Online Services Team  Jitendra Dadhich         347  \n",
       "431  Microsoft Online Services Team  Jitendra Dadhich         432  \n",
       "488  Microsoft Online Services Team  Jitendra Dadhich         489  \n",
       "504  Microsoft Online Services Team  Jitendra Dadhich         505  \n",
       "562         LogMeIn.com Auto-Mailer  Jitendra Dadhich         563  \n",
       "563         LogMeIn.com Auto-Mailer  Jitendra Dadhich         564  "
      ]
     },
     "execution_count": 22,
     "metadata": {},
     "output_type": "execute_result"
    }
   ],
   "source": [
    "Duplicate_email"
   ]
  },
  {
   "cell_type": "code",
   "execution_count": 23,
   "metadata": {},
   "outputs": [
    {
     "data": {
      "text/html": [
       "<div>\n",
       "<style scoped>\n",
       "    .dataframe tbody tr th:only-of-type {\n",
       "        vertical-align: middle;\n",
       "    }\n",
       "\n",
       "    .dataframe tbody tr th {\n",
       "        vertical-align: top;\n",
       "    }\n",
       "\n",
       "    .dataframe thead th {\n",
       "        text-align: right;\n",
       "    }\n",
       "</style>\n",
       "<table border=\"1\" class=\"dataframe\">\n",
       "  <thead>\n",
       "    <tr style=\"text-align: right;\">\n",
       "      <th></th>\n",
       "      <th>Subject</th>\n",
       "      <th>Body</th>\n",
       "      <th>From</th>\n",
       "      <th>To</th>\n",
       "      <th>Serial_Num</th>\n",
       "    </tr>\n",
       "  </thead>\n",
       "  <tbody>\n",
       "    <tr>\n",
       "      <th>165</th>\n",
       "      <td>Half-price for a full-year - If you come back ...</td>\n",
       "      <td>Invest in your career today\\r\\n &lt;http://click....</td>\n",
       "      <td>Safari</td>\n",
       "      <td>Jitendra Dadhich</td>\n",
       "      <td>166</td>\n",
       "    </tr>\n",
       "    <tr>\n",
       "      <th>166</th>\n",
       "      <td>please call me about 7:30 PM my time my Sunday...</td>\n",
       "      <td>\\r\\n</td>\n",
       "      <td>Paul French</td>\n",
       "      <td>Jitendra Dadhich</td>\n",
       "      <td>167</td>\n",
       "    </tr>\n",
       "    <tr>\n",
       "      <th>167</th>\n",
       "      <td>Re: please call me about 7:30 PM my time my Su...</td>\n",
       "      <td>hey, Sir,\\r\\nsorry but i do not know what \\r\\n...</td>\n",
       "      <td>Paul French</td>\n",
       "      <td>Jitendra Dadhich</td>\n",
       "      <td>168</td>\n",
       "    </tr>\n",
       "    <tr>\n",
       "      <th>168</th>\n",
       "      <td>Announcing Single-Day Tickets for AnacondaCON ...</td>\n",
       "      <td>1-Day, 3-Day, Tutorial Passes Now Available |\\...</td>\n",
       "      <td>Team Anaconda</td>\n",
       "      <td>Jitendra Dadhich</td>\n",
       "      <td>169</td>\n",
       "    </tr>\n",
       "    <tr>\n",
       "      <th>171</th>\n",
       "      <td>Weekly digest: Office 365 changes</td>\n",
       "      <td>\\t &lt;http://image.email2.office.com/lib/fe81137...</td>\n",
       "      <td>Office 365 Message Center</td>\n",
       "      <td>Jitendra Dadhich</td>\n",
       "      <td>172</td>\n",
       "    </tr>\n",
       "    <tr>\n",
       "      <th>172</th>\n",
       "      <td>Jitendra, Enjoy a Pi Day treat on us!</td>\n",
       "      <td>50% Off Tickets to AnacondaCON - Flash Sale en...</td>\n",
       "      <td>Team Anaconda</td>\n",
       "      <td>Jitendra Dadhich</td>\n",
       "      <td>173</td>\n",
       "    </tr>\n",
       "    <tr>\n",
       "      <th>173</th>\n",
       "      <td>Last chance! Don't miss 50% off AnacondaCON 20...</td>\n",
       "      <td>Flash Sale ends TOMORROW at 8:00AM CT |\\t \\r\\n...</td>\n",
       "      <td>Team Anaconda</td>\n",
       "      <td>Jitendra Dadhich</td>\n",
       "      <td>174</td>\n",
       "    </tr>\n",
       "    <tr>\n",
       "      <th>174</th>\n",
       "      <td>Final day! Save $200 on a year-long membership...</td>\n",
       "      <td>Invest in your career in 2018.\\r\\n &lt;http://cli...</td>\n",
       "      <td>Safari</td>\n",
       "      <td>Jitendra Dadhich</td>\n",
       "      <td>175</td>\n",
       "    </tr>\n",
       "    <tr>\n",
       "      <th>175</th>\n",
       "      <td>To Check</td>\n",
       "      <td># -*- coding: utf-8 -*-\\r\\n\\r\\n\"\"\"\\r\\n\\r\\nCrea...</td>\n",
       "      <td>Jitendra Dadhich</td>\n",
       "      <td>Jitendra Dadhich</td>\n",
       "      <td>176</td>\n",
       "    </tr>\n",
       "    <tr>\n",
       "      <th>176</th>\n",
       "      <td>Take Your Data Science Skills to the Next Leve...</td>\n",
       "      <td>Learn best practices, new skills &amp; the latest ...</td>\n",
       "      <td>Team Anaconda</td>\n",
       "      <td>Jitendra Dadhich</td>\n",
       "      <td>177</td>\n",
       "    </tr>\n",
       "    <tr>\n",
       "      <th>177</th>\n",
       "      <td>View your Office 365 Enterprise E3 billing sta...</td>\n",
       "      <td>Your billing statement is ready. Sign in now t...</td>\n",
       "      <td>Microsoft Online Services Team</td>\n",
       "      <td>Barbara French</td>\n",
       "      <td>178</td>\n",
       "    </tr>\n",
       "    <tr>\n",
       "      <th>178</th>\n",
       "      <td>View your Skype for Business Plus CAL billing ...</td>\n",
       "      <td>Your billing statement is ready. Sign in now t...</td>\n",
       "      <td>Microsoft Online Services Team</td>\n",
       "      <td>Barbara French</td>\n",
       "      <td>179</td>\n",
       "    </tr>\n",
       "    <tr>\n",
       "      <th>179</th>\n",
       "      <td>Please compose ans send an update tonight.</td>\n",
       "      <td>Long time no see update???\\r\\n</td>\n",
       "      <td>Paul French</td>\n",
       "      <td>Jitendra Dadhich</td>\n",
       "      <td>180</td>\n",
       "    </tr>\n",
       "    <tr>\n",
       "      <th>180</th>\n",
       "      <td>Radim's new stuff</td>\n",
       "      <td>RaRe-Technologies/gensim &lt;https://github.com/R...</td>\n",
       "      <td>Paul French</td>\n",
       "      <td>Jitendra Dadhich</td>\n",
       "      <td>181</td>\n",
       "    </tr>\n",
       "    <tr>\n",
       "      <th>181</th>\n",
       "      <td>Just following up...</td>\n",
       "      <td>Just following up on my last email, since many...</td>\n",
       "      <td>Max Deutsch</td>\n",
       "      <td>Jitendra Dadhich</td>\n",
       "      <td>182</td>\n",
       "    </tr>\n",
       "  </tbody>\n",
       "</table>\n",
       "</div>"
      ],
      "text/plain": [
       "                                               Subject  \\\n",
       "165  Half-price for a full-year - If you come back ...   \n",
       "166  please call me about 7:30 PM my time my Sunday...   \n",
       "167  Re: please call me about 7:30 PM my time my Su...   \n",
       "168  Announcing Single-Day Tickets for AnacondaCON ...   \n",
       "171                  Weekly digest: Office 365 changes   \n",
       "172              Jitendra, Enjoy a Pi Day treat on us!   \n",
       "173  Last chance! Don't miss 50% off AnacondaCON 20...   \n",
       "174  Final day! Save $200 on a year-long membership...   \n",
       "175                                           To Check   \n",
       "176  Take Your Data Science Skills to the Next Leve...   \n",
       "177  View your Office 365 Enterprise E3 billing sta...   \n",
       "178  View your Skype for Business Plus CAL billing ...   \n",
       "179         Please compose ans send an update tonight.   \n",
       "180                                  Radim's new stuff   \n",
       "181                               Just following up...   \n",
       "\n",
       "                                                  Body  \\\n",
       "165  Invest in your career today\\r\\n <http://click....   \n",
       "166                                               \\r\\n   \n",
       "167  hey, Sir,\\r\\nsorry but i do not know what \\r\\n...   \n",
       "168  1-Day, 3-Day, Tutorial Passes Now Available |\\...   \n",
       "171  \\t <http://image.email2.office.com/lib/fe81137...   \n",
       "172  50% Off Tickets to AnacondaCON - Flash Sale en...   \n",
       "173  Flash Sale ends TOMORROW at 8:00AM CT |\\t \\r\\n...   \n",
       "174  Invest in your career in 2018.\\r\\n <http://cli...   \n",
       "175  # -*- coding: utf-8 -*-\\r\\n\\r\\n\"\"\"\\r\\n\\r\\nCrea...   \n",
       "176  Learn best practices, new skills & the latest ...   \n",
       "177  Your billing statement is ready. Sign in now t...   \n",
       "178  Your billing statement is ready. Sign in now t...   \n",
       "179                     Long time no see update???\\r\\n   \n",
       "180  RaRe-Technologies/gensim <https://github.com/R...   \n",
       "181  Just following up on my last email, since many...   \n",
       "\n",
       "                               From                To  Serial_Num  \n",
       "165                          Safari  Jitendra Dadhich         166  \n",
       "166                     Paul French  Jitendra Dadhich         167  \n",
       "167                     Paul French  Jitendra Dadhich         168  \n",
       "168                   Team Anaconda  Jitendra Dadhich         169  \n",
       "171       Office 365 Message Center  Jitendra Dadhich         172  \n",
       "172                   Team Anaconda  Jitendra Dadhich         173  \n",
       "173                   Team Anaconda  Jitendra Dadhich         174  \n",
       "174                          Safari  Jitendra Dadhich         175  \n",
       "175                Jitendra Dadhich  Jitendra Dadhich         176  \n",
       "176                   Team Anaconda  Jitendra Dadhich         177  \n",
       "177  Microsoft Online Services Team    Barbara French         178  \n",
       "178  Microsoft Online Services Team    Barbara French         179  \n",
       "179                     Paul French  Jitendra Dadhich         180  \n",
       "180                     Paul French  Jitendra Dadhich         181  \n",
       "181                     Max Deutsch  Jitendra Dadhich         182  "
      ]
     },
     "execution_count": 23,
     "metadata": {},
     "output_type": "execute_result"
    }
   ],
   "source": [
    "email_data[165:180]"
   ]
  },
  {
   "cell_type": "markdown",
   "metadata": {},
   "source": [
    "## Unique Data From Duplicate Emails\n",
    "### This will be added to Update Clean Data Frame after removing all Duplicate Records"
   ]
  },
  {
   "cell_type": "code",
   "execution_count": 24,
   "metadata": {},
   "outputs": [
    {
     "data": {
      "text/html": [
       "<div>\n",
       "<style scoped>\n",
       "    .dataframe tbody tr th:only-of-type {\n",
       "        vertical-align: middle;\n",
       "    }\n",
       "\n",
       "    .dataframe tbody tr th {\n",
       "        vertical-align: top;\n",
       "    }\n",
       "\n",
       "    .dataframe thead th {\n",
       "        text-align: right;\n",
       "    }\n",
       "</style>\n",
       "<table border=\"1\" class=\"dataframe\">\n",
       "  <thead>\n",
       "    <tr style=\"text-align: right;\">\n",
       "      <th></th>\n",
       "      <th>Subject</th>\n",
       "      <th>Body</th>\n",
       "      <th>From</th>\n",
       "      <th>To</th>\n",
       "      <th>Serial_Num</th>\n",
       "    </tr>\n",
       "  </thead>\n",
       "  <tbody>\n",
       "    <tr>\n",
       "      <th>169</th>\n",
       "      <td>Fw: Python Demo 2</td>\n",
       "      <td>\\r\\n\\r\\n\\r\\n----- Forwarded Message -----\\r\\nF...</td>\n",
       "      <td>Paul French</td>\n",
       "      <td>Jitendra Dadhich</td>\n",
       "      <td>170</td>\n",
       "    </tr>\n",
       "    <tr>\n",
       "      <th>346</th>\n",
       "      <td>Your BF &amp; Associates password has been reset</td>\n",
       "      <td>\\t\\t \\t \\r\\nPassword reset notification \\r\\n\\r...</td>\n",
       "      <td>Microsoft Online Services Team</td>\n",
       "      <td>Jitendra Dadhich</td>\n",
       "      <td>347</td>\n",
       "    </tr>\n",
       "    <tr>\n",
       "      <th>562</th>\n",
       "      <td>LogMeIn Audit Notification - Login failed</td>\n",
       "      <td>\\t \\r\\n &lt;https://secure.logmein.com/&gt; \\t \\r\\n...</td>\n",
       "      <td>LogMeIn.com Auto-Mailer</td>\n",
       "      <td>Jitendra Dadhich</td>\n",
       "      <td>563</td>\n",
       "    </tr>\n",
       "  </tbody>\n",
       "</table>\n",
       "</div>"
      ],
      "text/plain": [
       "                                          Subject  \\\n",
       "169                             Fw: Python Demo 2   \n",
       "346  Your BF & Associates password has been reset   \n",
       "562     LogMeIn Audit Notification - Login failed   \n",
       "\n",
       "                                                  Body  \\\n",
       "169  \\r\\n\\r\\n\\r\\n----- Forwarded Message -----\\r\\nF...   \n",
       "346  \\t\\t \\t \\r\\nPassword reset notification \\r\\n\\r...   \n",
       "562   \\t \\r\\n <https://secure.logmein.com/> \\t \\r\\n...   \n",
       "\n",
       "                               From                To  Serial_Num  \n",
       "169                     Paul French  Jitendra Dadhich         170  \n",
       "346  Microsoft Online Services Team  Jitendra Dadhich         347  \n",
       "562         LogMeIn.com Auto-Mailer  Jitendra Dadhich         563  "
      ]
     },
     "execution_count": 24,
     "metadata": {},
     "output_type": "execute_result"
    }
   ],
   "source": [
    "Duplicate_email = Duplicate_email.drop_duplicates(subset=[\"Subject\"],keep='first')\n",
    "Duplicate_email"
   ]
  },
  {
   "cell_type": "markdown",
   "metadata": {},
   "source": [
    "# Get Back Unique Value From Duplicate TO Original Data Set "
   ]
  },
  {
   "cell_type": "code",
   "execution_count": 25,
   "metadata": {},
   "outputs": [
    {
     "name": "stdout",
     "output_type": "stream",
     "text": [
      "<class 'pandas.core.frame.DataFrame'>\n",
      "Index: 564 entries, 0 to 562\n",
      "Data columns (total 5 columns):\n",
      "Subject       562 non-null object\n",
      "Body          564 non-null object\n",
      "From          564 non-null object\n",
      "To            564 non-null object\n",
      "Serial_Num    564 non-null int64\n",
      "dtypes: int64(1), object(4)\n",
      "memory usage: 26.4+ KB\n"
     ]
    }
   ],
   "source": [
    "email_data = email_data.append(Duplicate_email)\n",
    "email_data.info()"
   ]
  },
  {
   "cell_type": "markdown",
   "metadata": {},
   "source": [
    "# Now From HERE MACHINE LEARNING PART STARTED\n",
    "## Inital Phase is Data Cleaning Or Data Preprocessing of Text"
   ]
  },
  {
   "cell_type": "raw",
   "metadata": {},
   "source": [
    "Spacy Package Used for Text Preprocessing to Extract Noun and Verb in Our Use Case, Spacy is Widely Use Industry Now Days,\n",
    "Having Good Community over Google and Actively Devloping.\n",
    "Below is Refrence Link of Space and Installation Guidance as Well."
   ]
  },
  {
   "cell_type": "code",
   "execution_count": 26,
   "metadata": {},
   "outputs": [
    {
     "data": {
      "text/markdown": [
       "***Spacy Package Has Been Called for Processing the Text data***"
      ],
      "text/plain": [
       "<IPython.core.display.Markdown object>"
      ]
     },
     "metadata": {},
     "output_type": "display_data"
    },
    {
     "data": {
      "text/markdown": [
       "***Here is Link for Spacy Package For Text Analytics***"
      ],
      "text/plain": [
       "<IPython.core.display.Markdown object>"
      ]
     },
     "metadata": {},
     "output_type": "display_data"
    },
    {
     "data": {
      "text/html": [
       "<b><font size=\"5\"> <marquee HEIGHT=50> <a href=\"https://spacy.io/\"> SPACY_Package </marquee></a><b>"
      ],
      "text/plain": [
       "<IPython.core.display.HTML object>"
      ]
     },
     "execution_count": 26,
     "metadata": {},
     "output_type": "execute_result"
    }
   ],
   "source": [
    "\n",
    "import spacy\n",
    "nlp = spacy.load('en_core_web_sm') # Loading the Spcay English Package for our use case\n",
    "jd_printing('***Spacy Package Has Been Called for Processing the Text data***')\n",
    "jd_printing(\"***Here is Link for Spacy Package For Text Analytics***\")\n",
    "HTML('<b><font size=\"5\"> <marquee HEIGHT=50> <a href=\"https://spacy.io/\"> \\\n",
    "SPACY_Package </marquee></a><b>')"
   ]
  },
  {
   "cell_type": "markdown",
   "metadata": {},
   "source": [
    "## Importing NLTK Package for to perform Text Processing"
   ]
  },
  {
   "cell_type": "raw",
   "metadata": {},
   "source": [
    "# Stop Words are Non~Revealant Words like (a,an, the,is, when, etc.) which make model complex remove them\n",
    "# Sentance tokenize use  for to break down paragraph into sentances\n",
    "# Word Tokenize use  for to break down sentances into  words\n",
    "# Lemmatizer Used for to get correct form of words as per context of text not the root the root of words "
   ]
  },
  {
   "cell_type": "code",
   "execution_count": 27,
   "metadata": {},
   "outputs": [
    {
     "data": {
      "text/markdown": [
       "***NLTK Package Has Been Called for Processing the Text data***"
      ],
      "text/plain": [
       "<IPython.core.display.Markdown object>"
      ]
     },
     "metadata": {},
     "output_type": "display_data"
    },
    {
     "data": {
      "text/markdown": [
       "***Here is Link for NLTK Package For Text Analytics, For Installation Please Refer the Site***"
      ],
      "text/plain": [
       "<IPython.core.display.Markdown object>"
      ]
     },
     "metadata": {},
     "output_type": "display_data"
    },
    {
     "data": {
      "text/html": [
       "<b><font size=\"5\"> <marquee HEIGHT=50> <a href=\"http://www.nltk.org/\"> NLTK_Package </marquee></a><b>"
      ],
      "text/plain": [
       "<IPython.core.display.HTML object>"
      ]
     },
     "execution_count": 27,
     "metadata": {},
     "output_type": "execute_result"
    }
   ],
   "source": [
    "import nltk\n",
    "from nltk.corpus import stopwords \n",
    "from nltk.tokenize import word_tokenize, sent_tokenize \n",
    "from nltk.stem import WordNetLemmatizer\n",
    "wordnet_lemmatizer = WordNetLemmatizer()\n",
    "pre_stop_words_list = set(stopwords.words('english'))\n",
    "jd_printing('***NLTK Package Has Been Called for Processing the Text data***')\n",
    "jd_printing(\"***Here is Link for NLTK Package For Text Analytics, For Installation Please Refer the Site***\")\n",
    "HTML('<b><font size=\"5\"> <marquee HEIGHT=50> <a href=\"http://www.nltk.org/\"> \\\n",
    "NLTK_Package </marquee></a><b>')"
   ]
  },
  {
   "cell_type": "raw",
   "metadata": {},
   "source": [
    "# Below are some Non Relvant Words Encountred in text which is will be added into Stop words list\n",
    "# Post Stop Words will have both NLTK stopword as well as User defined (below)"
   ]
  },
  {
   "cell_type": "code",
   "execution_count": 28,
   "metadata": {},
   "outputs": [],
   "source": [
    "list_not_req = [\"--\",\":\",\"\\n\",\"*\",\"\\n\",\"@\",\"ect\",\"m\",\"cc\",\"to\",'as','a','an','the',\"-\",\"a.m.\",\"p.m.\",\"=20\",\"=\",\n",
    "               \"td\",\"iii\",\"www\",\"jpg\",\"http\",\"jpg\",'th',\"msn\",'com','iso','pm','am','a','ll','mw',\n",
    "                        'yahoo','ena',\"eb\",\"xls\",\"st\",\"pdf\",\"outlook\",\"doc\",\"hrweb\",\"et\",\"asp\",\".ect\",\"xx\",\"eol\",\n",
    "                        \"nbsp\",\"txt\",\"ve\",\"el\",\"bg\",\"tx\",\"ut\",\"kt\",\"se\",\"sw\",\"nw\",\"tw\",\"ngx\",\"da\",\"usc\",\"ed\",\"ld\",\"ng\",\n",
    "                        \"wsj\",\"sb\",\"loveect\",\"fw\",\"for\",\"a\",\"of\",\"and\",\"to\",\"in\",\"ndas\",\"ss\",\"ab\",\"plea\",\"ma\",'ke',\n",
    "                        \"ch\",\"jr\",\"mr\",'eml','lme','xom',\"bn\",\"td\",\"nda\",\"hou\"]\n",
    "\n",
    "Post_stop_words_list = list_not_req+list(pre_stop_words_list)"
   ]
  },
  {
   "cell_type": "raw",
   "metadata": {},
   "source": [
    "# From this Stage the Text Cleaning Part is Starting.\n",
    "# This Below Function will remove all URL LINK From The Documents"
   ]
  },
  {
   "cell_type": "code",
   "execution_count": 29,
   "metadata": {},
   "outputs": [],
   "source": [
    "def remove_text_inside_brackets(text, brackets):\n",
    "    count = [0] * (len(brackets) // 2) # count open/close brackets\n",
    "    saved_chars = [] # save the result to return\n",
    "    text =text.lower()\n",
    "    for character in text:\n",
    "        for i, b in enumerate(brackets):\n",
    "            if character == b: # found bracket\n",
    "                kind, is_close = divmod(i, 2)\n",
    "                count[kind] += (-1)**is_close # `+1`: open, `-1`: close\n",
    "                if count[kind] < 0: # unbalanced bracket\n",
    "                    count[kind] = 0  # keep it\n",
    "                else:  # found bracket to remove\n",
    "                    break\n",
    "        else: # character is not a [balanced] bracket\n",
    "            if not any(count): # outside brackets\n",
    "                saved_chars.append(character)\n",
    "    return ''.join(saved_chars) # Return the String"
   ]
  },
  {
   "cell_type": "raw",
   "metadata": {},
   "source": [
    "# This Below Function will Remove Trail Email Context which is Not Use (Like To,From,CC,BCC, Most are the Name Only)"
   ]
  },
  {
   "cell_type": "code",
   "execution_count": 30,
   "metadata": {},
   "outputs": [],
   "source": [
    "def find_and_replace(text,Start_Value=\"to:\",End_value =\"subject:\"):\n",
    "    index_ = text.index(Start_Value)\n",
    "    End_   = text.index(End_value)+8\n",
    "    New_text = text[index_:End_]\n",
    "    Final_text = text.replace(New_text,\"\")\n",
    "    del index_\n",
    "    del End_\n",
    "    return Final_text # Return the Clean Trail Email without Non Relavant Stuff"
   ]
  },
  {
   "cell_type": "raw",
   "metadata": {},
   "source": [
    "# Below Funtion is Written  to Tag the words with POS Tagging (Part of Speech)"
   ]
  },
  {
   "cell_type": "code",
   "execution_count": 31,
   "metadata": {},
   "outputs": [],
   "source": [
    "def Space_Tagger(text):\n",
    "    doc =  nlp(text) # Converting the text into Spacy text for POS Tagging\n",
    "    taggeer_ = [(token.text, token.tag_) for token in doc] # One Liner funtion to Return word and POS Tag\n",
    "    return taggeer_"
   ]
  },
  {
   "cell_type": "raw",
   "metadata": {},
   "source": [
    "# Below Funtion is Written to Extract Only NOUN and VERB\n",
    "# if Any URL is still present in data this function will replace with Blank Space which don't effect model\n",
    "# Also Removing Long Words and Short Word which are not actual words"
   ]
  },
  {
   "cell_type": "code",
   "execution_count": 32,
   "metadata": {},
   "outputs": [],
   "source": [
    "import re  # Used for Regular Expression\n",
    "def Select_NN_VB_Text(Text):\n",
    "    tag_text = [ j[0] for j in Text if j[1].startswith(\"NN\") or j[1] == \"VB\" if j[0] not in Post_stop_words_list ]\n",
    "    tag_text_R = []\n",
    "    for j in tag_text:\n",
    "        if j.endswith(\"txt\") or j.startswith(\"http\"):\n",
    "            j = \"\"\n",
    "            tag_text_R.append(re.sub('[^A-Z,a-z]',\"\",j))\n",
    "        \n",
    "        else:\n",
    "            tag_text_R.append(re.sub('[^A-Z,a-z]',\"\",j))\n",
    "        \n",
    "    \n",
    "     \n",
    "    tag_text = [ x for x in tag_text_R if len(x) > 2  ]\n",
    "    \n",
    "    tag_text = [ x for x in tag_text if len(x) < 15 ]   \n",
    "    \n",
    "    return tag_text"
   ]
  },
  {
   "cell_type": "raw",
   "metadata": {},
   "source": [
    "# Below Fucntion is Calling Four (4) Function to Provide the Required Words for Text Processing"
   ]
  },
  {
   "cell_type": "code",
   "execution_count": 33,
   "metadata": {},
   "outputs": [],
   "source": [
    "def Text_Cleaning_Call_All_Above(text):\n",
    "    Body_ = remove_text_inside_brackets(text,brackets=\"<>[]\") # Cleaning URL \n",
    "    for j in range(1,11): # Ten Time Loop Run to Clean the URL From Text With Exception Handling to avoid any bug\n",
    "        try:                 \n",
    "            New_Text = find_and_replace(Body_)\n",
    "            Body_     = New_Text\n",
    "        except ValueError:\n",
    "            pass\n",
    "        \n",
    "    Body_ = Space_Tagger(Body_) # Return the POS Tagging \n",
    "    Body_ = Select_NN_VB_Text(Body_) # Return the Words Which Under for Machine Learning \n",
    "    return Body_"
   ]
  },
  {
   "cell_type": "code",
   "execution_count": 34,
   "metadata": {},
   "outputs": [
    {
     "data": {
      "text/markdown": [
       "***Joblib Package have been used for Parallel Computing To Utilize all Core of Machine \n",
       "             This will boost up the speed and reduce the of Processing             \n",
       " NOTE:-  Prior to Use this Library Please Check you Machine Configuration as well             \n",
       " NOTE:- Please Refer Version as well***\t\t:\t\t0.12.2"
      ],
      "text/plain": [
       "<IPython.core.display.Markdown object>"
      ]
     },
     "metadata": {},
     "output_type": "display_data"
    },
    {
     "data": {
      "text/markdown": [
       "***Here is Link for JOBLIB PACKAGE, For Installation Please Refer the Site***"
      ],
      "text/plain": [
       "<IPython.core.display.Markdown object>"
      ]
     },
     "metadata": {},
     "output_type": "display_data"
    },
    {
     "data": {
      "text/html": [
       "<b><font size=\"5\"> <marquee HEIGHT=50> <a href=\"https://joblib.readthedocs.io/en/latest/\"> JOBLIB_Package </marquee></a><b>"
      ],
      "text/plain": [
       "<IPython.core.display.HTML object>"
      ]
     },
     "execution_count": 34,
     "metadata": {},
     "output_type": "execute_result"
    }
   ],
   "source": [
    "import joblib\n",
    "from joblib import Parallel, delayed\n",
    "jd_printing('***Joblib Package have been used for Parallel Computing To Utilize all Core of Machine \\n \\\n",
    "            This will boost up the speed and reduce the of Processing \\\n",
    "            \\n NOTE:-  Prior to Use this Library Please Check you Machine Configuration as well \\\n",
    "            \\n NOTE:- Please Refer Version as well***', joblib.__version__)\n",
    "jd_printing(\"***Here is Link for JOBLIB PACKAGE, For Installation Please Refer the Site***\")\n",
    "HTML('<b><font size=\"5\"> <marquee HEIGHT=50> <a href=\"https://joblib.readthedocs.io/en/latest/\"> \\\n",
    "JOBLIB_Package </marquee></a><b>')"
   ]
  },
  {
   "cell_type": "code",
   "execution_count": 35,
   "metadata": {},
   "outputs": [
    {
     "data": {
      "text/markdown": [
       "***TQDM is Used for Visualize Progress Bar of Data Processing***"
      ],
      "text/plain": [
       "<IPython.core.display.Markdown object>"
      ]
     },
     "metadata": {},
     "output_type": "display_data"
    },
    {
     "data": {
      "text/markdown": [
       "***Here is Link for TQDM PACKAGE, For Installation Please Refer the Site***"
      ],
      "text/plain": [
       "<IPython.core.display.Markdown object>"
      ]
     },
     "metadata": {},
     "output_type": "display_data"
    },
    {
     "data": {
      "text/html": [
       "<b><font size=\"5\"> <marquee HEIGHT=50> <a href=\"https://github.com/tqdm/tqdm\"> TQDM_Package </marquee></a><b>"
      ],
      "text/plain": [
       "<IPython.core.display.HTML object>"
      ]
     },
     "execution_count": 35,
     "metadata": {},
     "output_type": "execute_result"
    }
   ],
   "source": [
    "from tqdm import tqdm\n",
    "jd_printing('***TQDM is Used for Visualize Progress Bar of Data Processing***')\n",
    "jd_printing(\"***Here is Link for TQDM PACKAGE, For Installation Please Refer the Site***\")\n",
    "HTML('<b><font size=\"5\"> <marquee HEIGHT=50> <a href=\"https://github.com/tqdm/tqdm\"> \\\n",
    "TQDM_Package </marquee></a><b>')"
   ]
  },
  {
   "cell_type": "raw",
   "metadata": {},
   "source": [
    "# Preprocesing the Text Using Above Created Function and Joblib for Fast Processing (GET List of Words)"
   ]
  },
  {
   "cell_type": "code",
   "execution_count": 36,
   "metadata": {},
   "outputs": [
    {
     "name": "stderr",
     "output_type": "stream",
     "text": [
      "100%|████████████████████████████████████████████████████████████████████████████████| 564/564 [00:44<00:00, 12.77it/s]\n"
     ]
    },
    {
     "data": {
      "text/markdown": [
       "***Pre~processing has been Completed as Goal***"
      ],
      "text/plain": [
       "<IPython.core.display.Markdown object>"
      ]
     },
     "metadata": {},
     "output_type": "display_data"
    }
   ],
   "source": [
    "Clean_Body = Parallel(n_jobs=2,backend='threading')(delayed(Text_Cleaning_Call_All_Above)(x)for x in tqdm(email_data.Body))\n",
    "jd_printing('***Pre~processing has been Completed as Goal***')"
   ]
  },
  {
   "cell_type": "code",
   "execution_count": 37,
   "metadata": {},
   "outputs": [
    {
     "data": {
      "text/plain": [
       "['call', 'tuesday', 'evening', 'discuss']"
      ]
     },
     "execution_count": 37,
     "metadata": {},
     "output_type": "execute_result"
    }
   ],
   "source": [
    "Clean_Body[0] # Sample Result of above task please change index value till the data size -1 and have look on data"
   ]
  },
  {
   "cell_type": "code",
   "execution_count": 38,
   "metadata": {},
   "outputs": [],
   "source": [
    "os.chdir(\"C:\\\\Users\\\\jkdadhich\\\\Desktop\\\\HR_DEMO_JD\\\\out_put\")"
   ]
  },
  {
   "cell_type": "markdown",
   "metadata": {},
   "source": [
    "# From Here Machine Learning Task is Starting\n",
    "## Genism Package is using for ML Algorithim for the Use Case\n",
    "### Each Algorithim has their own criteria and results are vary as per selected algo.  "
   ]
  },
  {
   "cell_type": "raw",
   "metadata": {},
   "source": [
    "# In Demo Solution I am using different Technique using my best knowledge.\n",
    "# Run all Algo First and Save the Results for future reference or use case.\n",
    "# Gensim high level Package and Easy to use develop by Radim and his team.\n",
    "# Gensim is widely used for Text analytics with different technique."
   ]
  },
  {
   "cell_type": "code",
   "execution_count": 39,
   "metadata": {},
   "outputs": [
    {
     "name": "stderr",
     "output_type": "stream",
     "text": [
      "C:\\Users\\jkdadhich\\AppData\\Local\\Continuum\\anaconda3\\lib\\site-packages\\gensim\\utils.py:1197: UserWarning: detected Windows; aliasing chunkize to chunkize_serial\n",
      "  warnings.warn(\"detected Windows; aliasing chunkize to chunkize_serial\")\n"
     ]
    },
    {
     "data": {
      "text/markdown": [
       "***Here is Link for GENSIM PACKAGE, For Installation Please Refer the Site***"
      ],
      "text/plain": [
       "<IPython.core.display.Markdown object>"
      ]
     },
     "metadata": {},
     "output_type": "display_data"
    },
    {
     "data": {
      "text/html": [
       "<b><font size=\"5\"> <marquee HEIGHT=50> <a href=\"https://radimrehurek.com/gensim/\"> GENSIM_Package </marquee></a><b>"
      ],
      "text/plain": [
       "<IPython.core.display.HTML object>"
      ]
     },
     "execution_count": 39,
     "metadata": {},
     "output_type": "execute_result"
    }
   ],
   "source": [
    "import gensim\n",
    "from gensim.models import Word2Vec\n",
    "jd_printing(\"***Here is Link for GENSIM PACKAGE, For Installation Please Refer the Site***\")\n",
    "HTML('<b><font size=\"5\"> <marquee HEIGHT=50> <a href=\"https://radimrehurek.com/gensim/\"> \\\n",
    "GENSIM_Package </marquee></a><b>')"
   ]
  },
  {
   "cell_type": "markdown",
   "metadata": {},
   "source": [
    "# First Model Is Word2VEC one of The Best Model as per  Requirement"
   ]
  },
  {
   "cell_type": "raw",
   "metadata": {},
   "source": [
    "# Word2vec Implementation :- Two types CBOW & SKIP GRAM\n",
    "# Below is sample of Word2vec Model using Skip Gram.\n",
    "# For more under standing please google the word2vec model (part of neural netword with One hidden layer)"
   ]
  },
  {
   "cell_type": "code",
   "execution_count": 40,
   "metadata": {},
   "outputs": [
    {
     "data": {
      "text/markdown": [
       "***Word2Vec Model has been Trained with Given Input***"
      ],
      "text/plain": [
       "<IPython.core.display.Markdown object>"
      ]
     },
     "metadata": {},
     "output_type": "display_data"
    }
   ],
   "source": [
    "model = gensim.models.Word2Vec(\n",
    "        Clean_Body,\n",
    "        size=100, # Size equal to Number of Topics & size is the dimensionality of the feature vectors\n",
    "        window=5,  # neighbourhood of a term, in a sentence\n",
    "        min_count=2, # Ignores all words with total frequency lower than this\n",
    "        workers=2, #  Use these many worker threads to train the model (=faster training with multicore machines).\n",
    "        sg=1,    # Skip gram model\n",
    "        negative = 5, #If > 0, negative sampling will be used, \n",
    "                        #the int for negative specifies how many “noise words” \n",
    "                        #should be drawn (usually between 5-20). If set to 0, no negative sampling is used\n",
    "        alpha = 0.25,\n",
    "        iter= 10\n",
    ") \n",
    "jd_printing(\"***Word2Vec Model has been Trained with Given Input***\")"
   ]
  },
  {
   "cell_type": "code",
   "execution_count": 41,
   "metadata": {},
   "outputs": [
    {
     "name": "stderr",
     "output_type": "stream",
     "text": [
      "C:\\Users\\jkdadhich\\AppData\\Local\\Continuum\\anaconda3\\lib\\site-packages\\ipykernel_launcher.py:1: DeprecationWarning: Call to deprecated `syn0` (Attribute will be removed in 4.0.0, use self.wv.vectors instead).\n",
      "  \"\"\"Entry point for launching an IPython kernel.\n"
     ]
    },
    {
     "data": {
      "text/markdown": [
       "***Shape of Word Vectors Created by Model***\t\t:\t\t(3026, 100)"
      ],
      "text/plain": [
       "<IPython.core.display.Markdown object>"
      ]
     },
     "metadata": {},
     "output_type": "display_data"
    }
   ],
   "source": [
    "word_vectors = model.wv.syn0 ## Keys or Words willbe Zero Index and Dimenson will be First index (Word*Size)\n",
    "jd_printing(\"***Shape of Word Vectors Created by Model***\",word_vectors.shape)  # Shape of Vectors"
   ]
  },
  {
   "cell_type": "raw",
   "metadata": {},
   "source": [
    "# Note:-  Word Vectors are always Greater in Size with respect to Corpus Size\n",
    "# To Deal with Problem I have applied Technique Average of Vectors (To Reduce Dimesion by averaging them)"
   ]
  },
  {
   "cell_type": "code",
   "execution_count": 42,
   "metadata": {},
   "outputs": [],
   "source": [
    "import numpy as np\n",
    "def sent_vectorizer(sent, model):\n",
    "    if len(sent)!=0:\n",
    "        sent_vec =[]\n",
    "        numw = 0\n",
    "        for w in sent:\n",
    "            try:\n",
    "                if numw == 0:\n",
    "                    sent_vec = model[w]\n",
    "                else:\n",
    "                    sent_vec = np.add(sent_vec, model[w])\n",
    "                numw+=1\n",
    "            except:\n",
    "                pass\n",
    "        return np.asarray(sent_vec) / numw \n",
    "    else:\n",
    "        return np.zeros(shape=(100,))"
   ]
  },
  {
   "cell_type": "markdown",
   "metadata": {},
   "source": [
    "# Iterating over Corpus With Model as well."
   ]
  },
  {
   "cell_type": "code",
   "execution_count": 43,
   "metadata": {},
   "outputs": [
    {
     "name": "stderr",
     "output_type": "stream",
     "text": [
      "  0%|                                                                                          | 0/564 [00:00<?, ?it/s]C:\\Users\\jkdadhich\\AppData\\Local\\Continuum\\anaconda3\\lib\\site-packages\\ipykernel_launcher.py:9: DeprecationWarning: Call to deprecated `__getitem__` (Method will be removed in 4.0.0, use self.wv.__getitem__() instead).\n",
      "  if __name__ == '__main__':\n",
      "C:\\Users\\jkdadhich\\AppData\\Local\\Continuum\\anaconda3\\lib\\site-packages\\ipykernel_launcher.py:11: DeprecationWarning: Call to deprecated `__getitem__` (Method will be removed in 4.0.0, use self.wv.__getitem__() instead).\n",
      "  # This is added back by InteractiveShellApp.init_path()\n",
      "100%|███████████████████████████████████████████████████████████████████████████████| 564/564 [00:00<00:00, 973.01it/s]\n"
     ]
    },
    {
     "data": {
      "text/markdown": [
       "***Average Vectors are Ready For Clustering***\t\t:\t\t564"
      ],
      "text/plain": [
       "<IPython.core.display.Markdown object>"
      ]
     },
     "metadata": {},
     "output_type": "display_data"
    }
   ],
   "source": [
    "Corpus_Vector = Parallel(n_jobs=2,backend='threading')(delayed(sent_vectorizer)(sentence, model)\n",
    "                                                       for sentence in tqdm(Clean_Body))\n",
    "jd_printing(\"***Average Vectors are Ready For Clustering***\",len(Corpus_Vector))"
   ]
  },
  {
   "cell_type": "code",
   "execution_count": 44,
   "metadata": {},
   "outputs": [
    {
     "name": "stderr",
     "output_type": "stream",
     "text": [
      "C:\\Users\\jkdadhich\\AppData\\Local\\Continuum\\anaconda3\\lib\\site-packages\\ipykernel_launcher.py:9: DeprecationWarning: Call to deprecated `__getitem__` (Method will be removed in 4.0.0, use self.wv.__getitem__() instead).\n",
      "  if __name__ == '__main__':\n",
      "C:\\Users\\jkdadhich\\AppData\\Local\\Continuum\\anaconda3\\lib\\site-packages\\ipykernel_launcher.py:11: DeprecationWarning: Call to deprecated `__getitem__` (Method will be removed in 4.0.0, use self.wv.__getitem__() instead).\n",
      "  # This is added back by InteractiveShellApp.init_path()\n"
     ]
    }
   ],
   "source": [
    "Avg_Vectors = []\n",
    "for sentence in Clean_Body:\n",
    "    Avg_Vectors.append(sent_vectorizer(sentence, model))"
   ]
  },
  {
   "cell_type": "markdown",
   "metadata": {},
   "source": [
    "## Now Clustering Comes In Picture \n",
    "### In this case i am using kmean Clustering with Iteration and model will decide by its own\n",
    "#### We can also decided Number of Cluster as per need however best will be machine decision if you are not Sure"
   ]
  },
  {
   "cell_type": "code",
   "execution_count": 45,
   "metadata": {},
   "outputs": [
    {
     "data": {
      "text/markdown": [
       "***Here is Link for Sklearn Kmean, For Installation Please Refer the Site***"
      ],
      "text/plain": [
       "<IPython.core.display.Markdown object>"
      ]
     },
     "metadata": {},
     "output_type": "display_data"
    },
    {
     "data": {
      "text/html": [
       "<b><font size=\"5\"> <marquee HEIGHT=50> <a href=\"https://scikit-learn.org/stable/modules/generated/sklearn.cluster.KMeans.html\"> Sklearn_Kmean_Package </marquee></a><b>"
      ],
      "text/plain": [
       "<IPython.core.display.HTML object>"
      ]
     },
     "execution_count": 45,
     "metadata": {},
     "output_type": "execute_result"
    }
   ],
   "source": [
    "from sklearn.cluster import KMeans # Imporitng the Kmeans\n",
    "from sklearn import metrics        # To Check Clustering Performance    \n",
    "jd_printing(\"***Here is Link for Sklearn Kmean, For Installation Please Refer the Site***\")\n",
    "HTML('<b><font size=\"5\"> <marquee HEIGHT=50> <a href=\"https://scikit-learn.org/stable/modules/generated/sklearn.cluster.KMeans.html\"> \\\n",
    "Sklearn_Kmean_Package </marquee></a><b>')"
   ]
  },
  {
   "cell_type": "code",
   "execution_count": 46,
   "metadata": {},
   "outputs": [],
   "source": [
    "# Below We are iterating over number of k and checking which number of cluster is good.\n"
   ]
  },
  {
   "cell_type": "code",
   "execution_count": 47,
   "metadata": {},
   "outputs": [],
   "source": [
    "start_cluster_range = 5\n",
    "End_Cluster_Range   = 20\n",
    "\n",
    "Dict_Result = {}\n",
    "for K_range in range(start_cluster_range,End_Cluster_Range):\n",
    "    kmeans  = KMeans(n_clusters=K_range)\n",
    "    result_ = kmeans.fit(Avg_Vectors)\n",
    "    clusters = [ i for i in (result_.labels_)]\n",
    "    silhouette_score = metrics.silhouette_score(Corpus_Vector, clusters, metric='euclidean')\n",
    "    Dict_Result[K_range] = silhouette_score\n",
    "    \n",
    "    "
   ]
  },
  {
   "cell_type": "code",
   "execution_count": 48,
   "metadata": {},
   "outputs": [
    {
     "data": {
      "text/plain": [
       "{5: 0.30479659294352435,\n",
       " 6: 0.3298614202101855,\n",
       " 7: 0.3104330250334619,\n",
       " 8: 0.3082987629474076,\n",
       " 9: 0.3343633494059013,\n",
       " 10: 0.33525232327124654,\n",
       " 11: 0.33777030721435597,\n",
       " 12: 0.32247818594446975,\n",
       " 13: 0.33703226727403357,\n",
       " 14: 0.3040175545393255,\n",
       " 15: 0.3117010915415409,\n",
       " 16: 0.2901095618091205,\n",
       " 17: 0.3350917688781916,\n",
       " 18: 0.3362668538006009,\n",
       " 19: 0.28721813312804173}"
      ]
     },
     "execution_count": 48,
     "metadata": {},
     "output_type": "execute_result"
    }
   ],
   "source": [
    "Dict_Result # Result In Dictionay Format and Key as Cluster Number and Values are Silhouette Score"
   ]
  },
  {
   "cell_type": "code",
   "execution_count": 49,
   "metadata": {},
   "outputs": [
    {
     "data": {
      "text/markdown": [
       "***Number of Cluster For this Data Set is***\t\t:\t\t11"
      ],
      "text/plain": [
       "<IPython.core.display.Markdown object>"
      ]
     },
     "metadata": {},
     "output_type": "display_data"
    }
   ],
   "source": [
    "import operator # Calling inbuilt Library \n",
    "# Getting Best Number of As Per Machine Calulation.\n",
    "Best_Cluster_Value = max(Dict_Result.items(), key=operator.itemgetter(1))[0]\n",
    "jd_printing(\"***Number of Cluster For this Data Set is***\",Best_Cluster_Value)"
   ]
  },
  {
   "cell_type": "markdown",
   "metadata": {},
   "source": [
    "### Fitting the Model as with Best Cluster Values for Future Reference"
   ]
  },
  {
   "cell_type": "code",
   "execution_count": 50,
   "metadata": {},
   "outputs": [],
   "source": [
    "kmeans  = KMeans(n_clusters=Best_Cluster_Value)\n",
    "kmean_result = kmeans.fit(Avg_Vectors)\n",
    "Kmean_Labels = [ x for x in kmean_result.labels_]\n",
    "Kmean_Centroid = [x for x in kmean_result.cluster_centers_]"
   ]
  },
  {
   "cell_type": "markdown",
   "metadata": {},
   "source": [
    "### Visualize the Data Set or Clustering"
   ]
  },
  {
   "cell_type": "code",
   "execution_count": 51,
   "metadata": {},
   "outputs": [
    {
     "data": {
      "text/plain": [
       "<Figure size 640x480 with 1 Axes>"
      ]
     },
     "metadata": {},
     "output_type": "display_data"
    }
   ],
   "source": [
    "import matplotlib.pyplot as plt # For Ploting\n",
    " \n",
    "from sklearn.manifold import TSNE\n",
    " \n",
    "model_TSNE = TSNE(n_components=2, random_state=0)\n",
    "np.set_printoptions(suppress=True)\n",
    " \n",
    "Y=model_TSNE.fit_transform(Avg_Vectors)\n",
    " \n",
    "plt.scatter(Y[:, 0], Y[:, 1], c=Kmean_Labels, s=200,alpha=.9)\n",
    " \n",
    "for j in range(len(clusters)):    \n",
    "    plt.annotate(Kmean_Labels[j],xy=(Y[j][0], Y[j][1]),xytext=(0,0),textcoords='offset points')\n",
    "plt.show()"
   ]
  },
  {
   "cell_type": "code",
   "execution_count": 52,
   "metadata": {},
   "outputs": [],
   "source": [
    "email_data_word2vec_kmean = email_data # Copying the Data Frame "
   ]
  },
  {
   "cell_type": "code",
   "execution_count": 60,
   "metadata": {},
   "outputs": [],
   "source": [
    "# Updating Data Frame as per Cluster and Cleaned Text\n",
    "email_data_word2vec_kmean[\"K_Label\"] = Kmean_Labels\n",
    "email_data_word2vec_kmean[\"Clean_Word\"] = Clean_Body\n",
    "email_data_word2vec_kmean.to_excel(\"Word2vec.xlsx\")"
   ]
  },
  {
   "cell_type": "code",
   "execution_count": null,
   "metadata": {},
   "outputs": [],
   "source": []
  },
  {
   "cell_type": "code",
   "execution_count": 61,
   "metadata": {},
   "outputs": [],
   "source": [
    "from wordcloud import WordCloud, STOPWORDS\n",
    "import matplotlib.pyplot as plt"
   ]
  },
  {
   "cell_type": "code",
   "execution_count": 62,
   "metadata": {},
   "outputs": [
    {
     "name": "stdout",
     "output_type": "stream",
     "text": [
      "40 0\n",
      "Image of Cluster Number  Save on Disk  0\n",
      "24 1\n",
      "Image of Cluster Number  Save on Disk  1\n",
      "20 2\n",
      "Image of Cluster Number  Save on Disk  2\n",
      "77 3\n",
      "Image of Cluster Number  Save on Disk  3\n",
      "29 4\n",
      "Image of Cluster Number  Save on Disk  4\n",
      "79 5\n",
      "Image of Cluster Number  Save on Disk  5\n",
      "8 6\n",
      "Image of Cluster Number  Save on Disk  6\n",
      "95 7\n",
      "Image of Cluster Number  Save on Disk  7\n",
      "16 8\n",
      "Image of Cluster Number  Save on Disk  8\n",
      "24 9\n",
      "Image of Cluster Number  Save on Disk  9\n",
      "152 10\n",
      "Image of Cluster Number  Save on Disk  10\n"
     ]
    }
   ],
   "source": [
    "Address_of_png_files = []\n",
    "for Cls in range(0,max(Kmean_Labels)+1):\n",
    "    Image_Cls = [ y for x,y in zip(email_data_word2vec_kmean.K_Label,email_data_word2vec_kmean.Clean_Word) if x == Cls]\n",
    "    print (len(Image_Cls),Cls)\n",
    "    word_clound = WordCloud(relative_scaling=0.5,stopwords=STOPWORDS)\n",
    "    word_clound.generate(str(Image_Cls))\n",
    "    word_clound.to_file(str(\"K_Label_\")+str(Cls)+str(\".png\"))  \n",
    "    print (\"Image of Cluster Number  Save on Disk \",Cls)\n",
    "    Address_of_png_files.append(os.getcwd()+str(\"\\\\K_Label_\")+str(Cls)+str(\".png\"))\n",
    "    "
   ]
  },
  {
   "cell_type": "code",
   "execution_count": 63,
   "metadata": {},
   "outputs": [],
   "source": [
    "from docx import Document\n",
    "from docx.shared import Inches\n"
   ]
  },
  {
   "cell_type": "code",
   "execution_count": 64,
   "metadata": {},
   "outputs": [
    {
     "data": {
      "text/plain": [
       "11"
      ]
     },
     "execution_count": 64,
     "metadata": {},
     "output_type": "execute_result"
    }
   ],
   "source": [
    "len(Address_of_png_files)"
   ]
  },
  {
   "cell_type": "code",
   "execution_count": 65,
   "metadata": {},
   "outputs": [],
   "source": [
    "document = Document()\n",
    "for j in Address_of_png_files:\n",
    "    document.add_heading(j)\n",
    "    document.add_picture(j, width=Inches(6.0))\n",
    "    \n",
    "document.save(\"Demo.docx\")"
   ]
  },
  {
   "cell_type": "code",
   "execution_count": 73,
   "metadata": {},
   "outputs": [
    {
     "data": {
      "text/plain": [
       "[('city', 0.5129470229148865),\n",
       " ('templates', 0.49503177404403687),\n",
       " ('community', 0.4922211170196533),\n",
       " ('approaches', 0.4899565875530243),\n",
       " ('uber', 0.48601073026657104),\n",
       " ('start', 0.4844989478588104),\n",
       " ('mapping', 0.47814714908599854),\n",
       " ('guesses', 0.47723472118377686),\n",
       " ('alignment', 0.4770674705505371),\n",
       " ('thought', 0.47679051756858826)]"
      ]
     },
     "execution_count": 73,
     "metadata": {},
     "output_type": "execute_result"
    }
   ],
   "source": [
    "similarities = model.wv.most_similar(positive=['homogeneity', 'clustering'], negative=['paul'])\n",
    "similarities"
   ]
  },
  {
   "cell_type": "code",
   "execution_count": null,
   "metadata": {},
   "outputs": [],
   "source": []
  },
  {
   "cell_type": "code",
   "execution_count": null,
   "metadata": {},
   "outputs": [],
   "source": []
  },
  {
   "cell_type": "code",
   "execution_count": null,
   "metadata": {},
   "outputs": [],
   "source": []
  },
  {
   "cell_type": "code",
   "execution_count": null,
   "metadata": {},
   "outputs": [],
   "source": []
  }
 ],
 "metadata": {
  "kernelspec": {
   "display_name": "Python 3",
   "language": "python",
   "name": "python3"
  },
  "language_info": {
   "codemirror_mode": {
    "name": "ipython",
    "version": 3
   },
   "file_extension": ".py",
   "mimetype": "text/x-python",
   "name": "python",
   "nbconvert_exporter": "python",
   "pygments_lexer": "ipython3",
   "version": "3.5.5"
  }
 },
 "nbformat": 4,
 "nbformat_minor": 2
}
